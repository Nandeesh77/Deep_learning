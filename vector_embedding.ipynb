pip install langchain
pip install azure-search-documents==11.4.0b6
pip install python-dotenv
